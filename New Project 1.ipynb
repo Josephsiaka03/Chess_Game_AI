{
 "cells": [
  {
   "cell_type": "code",
   "execution_count": 1,
   "id": "ea10f4b7",
   "metadata": {
    "ExecuteTime": {
     "end_time": "2022-10-31T13:28:25.860554Z",
     "start_time": "2022-10-31T13:28:06.162495Z"
    }
   },
   "outputs": [],
   "source": [
    "import pandas as pd\n",
    "import seaborn as sns\n",
    "import matplotlib.pyplot as plt"
   ]
  },
  {
   "cell_type": "code",
   "execution_count": 2,
   "id": "ae27a24e",
   "metadata": {
    "ExecuteTime": {
     "end_time": "2022-10-31T13:28:25.921393Z",
     "start_time": "2022-10-31T13:28:25.865543Z"
    }
   },
   "outputs": [],
   "source": [
    "df= pd.read_csv('house_price_dataset (1).csv')"
   ]
  },
  {
   "cell_type": "code",
   "execution_count": 3,
   "id": "a61a6812",
   "metadata": {
    "ExecuteTime": {
     "end_time": "2022-10-31T13:28:26.173721Z",
     "start_time": "2022-10-31T13:28:25.925386Z"
    }
   },
   "outputs": [
    {
     "data": {
      "text/html": [
       "<div>\n",
       "<style scoped>\n",
       "    .dataframe tbody tr th:only-of-type {\n",
       "        vertical-align: middle;\n",
       "    }\n",
       "\n",
       "    .dataframe tbody tr th {\n",
       "        vertical-align: top;\n",
       "    }\n",
       "\n",
       "    .dataframe thead th {\n",
       "        text-align: right;\n",
       "    }\n",
       "</style>\n",
       "<table border=\"1\" class=\"dataframe\">\n",
       "  <thead>\n",
       "    <tr style=\"text-align: right;\">\n",
       "      <th></th>\n",
       "      <th>X2 house age</th>\n",
       "      <th>X3 distance to the nearest station</th>\n",
       "      <th>X4 number of convenience stores</th>\n",
       "      <th>X5 latitude</th>\n",
       "      <th>X6 longitude</th>\n",
       "      <th>Y house price of unit area</th>\n",
       "    </tr>\n",
       "  </thead>\n",
       "  <tbody>\n",
       "    <tr>\n",
       "      <th>0</th>\n",
       "      <td>32.0</td>\n",
       "      <td>84.87882</td>\n",
       "      <td>10</td>\n",
       "      <td>24.98298</td>\n",
       "      <td>121.54024</td>\n",
       "      <td>37.9</td>\n",
       "    </tr>\n",
       "    <tr>\n",
       "      <th>1</th>\n",
       "      <td>19.5</td>\n",
       "      <td>306.59470</td>\n",
       "      <td>9</td>\n",
       "      <td>24.98034</td>\n",
       "      <td>121.53951</td>\n",
       "      <td>42.2</td>\n",
       "    </tr>\n",
       "    <tr>\n",
       "      <th>2</th>\n",
       "      <td>13.3</td>\n",
       "      <td>561.98450</td>\n",
       "      <td>5</td>\n",
       "      <td>24.98746</td>\n",
       "      <td>121.54391</td>\n",
       "      <td>47.3</td>\n",
       "    </tr>\n",
       "    <tr>\n",
       "      <th>3</th>\n",
       "      <td>13.3</td>\n",
       "      <td>561.98450</td>\n",
       "      <td>5</td>\n",
       "      <td>24.98746</td>\n",
       "      <td>121.54391</td>\n",
       "      <td>54.8</td>\n",
       "    </tr>\n",
       "    <tr>\n",
       "      <th>4</th>\n",
       "      <td>5.0</td>\n",
       "      <td>390.56840</td>\n",
       "      <td>5</td>\n",
       "      <td>24.97937</td>\n",
       "      <td>121.54245</td>\n",
       "      <td>43.1</td>\n",
       "    </tr>\n",
       "  </tbody>\n",
       "</table>\n",
       "</div>"
      ],
      "text/plain": [
       "   X2 house age  X3 distance to the nearest station  \\\n",
       "0          32.0                            84.87882   \n",
       "1          19.5                           306.59470   \n",
       "2          13.3                           561.98450   \n",
       "3          13.3                           561.98450   \n",
       "4           5.0                           390.56840   \n",
       "\n",
       "   X4 number of convenience stores  X5 latitude  X6 longitude  \\\n",
       "0                               10     24.98298     121.54024   \n",
       "1                                9     24.98034     121.53951   \n",
       "2                                5     24.98746     121.54391   \n",
       "3                                5     24.98746     121.54391   \n",
       "4                                5     24.97937     121.54245   \n",
       "\n",
       "   Y house price of unit area  \n",
       "0                        37.9  \n",
       "1                        42.2  \n",
       "2                        47.3  \n",
       "3                        54.8  \n",
       "4                        43.1  "
      ]
     },
     "execution_count": 3,
     "metadata": {},
     "output_type": "execute_result"
    }
   ],
   "source": [
    "df.head()"
   ]
  },
  {
   "cell_type": "code",
   "execution_count": 5,
   "id": "2600a846",
   "metadata": {
    "ExecuteTime": {
     "end_time": "2022-10-31T13:52:59.891787Z",
     "start_time": "2022-10-31T13:52:59.871844Z"
    }
   },
   "outputs": [],
   "source": [
    "df.drop(columns= ['X5 latitude', 'X6 longitude'], axis=1, inplace= True)"
   ]
  },
  {
   "cell_type": "code",
   "execution_count": 4,
   "id": "75a08ae9",
   "metadata": {
    "ExecuteTime": {
     "end_time": "2022-10-31T13:28:26.204638Z",
     "start_time": "2022-10-31T13:28:26.177709Z"
    }
   },
   "outputs": [
    {
     "data": {
      "text/plain": [
       "X2 house age                          0\n",
       "X3 distance to the nearest station    0\n",
       "X4 number of convenience stores       0\n",
       "X5 latitude                           0\n",
       "X6 longitude                          0\n",
       "Y house price of unit area            0\n",
       "dtype: int64"
      ]
     },
     "execution_count": 4,
     "metadata": {},
     "output_type": "execute_result"
    }
   ],
   "source": [
    "# Checking for Null values\n",
    "df.isnull().sum()"
   ]
  },
  {
   "cell_type": "code",
   "execution_count": 6,
   "id": "e5a254fc",
   "metadata": {
    "ExecuteTime": {
     "end_time": "2022-10-31T13:28:26.299381Z",
     "start_time": "2022-10-31T13:28:26.214613Z"
    }
   },
   "outputs": [
    {
     "data": {
      "text/plain": [
       "0"
      ]
     },
     "execution_count": 6,
     "metadata": {},
     "output_type": "execute_result"
    }
   ],
   "source": [
    "# Checking for duplicated rows\n",
    "df.duplicated().sum()"
   ]
  },
  {
   "cell_type": "code",
   "execution_count": 7,
   "id": "df010d22",
   "metadata": {
    "ExecuteTime": {
     "end_time": "2022-10-31T13:28:26.395126Z",
     "start_time": "2022-10-31T13:28:26.302378Z"
    }
   },
   "outputs": [
    {
     "data": {
      "text/plain": [
       "X2 house age                          float64\n",
       "X3 distance to the nearest station    float64\n",
       "X4 number of convenience stores         int64\n",
       "Y house price of unit area            float64\n",
       "dtype: object"
      ]
     },
     "execution_count": 7,
     "metadata": {},
     "output_type": "execute_result"
    }
   ],
   "source": [
    "df.dtypes"
   ]
  },
  {
   "cell_type": "code",
   "execution_count": 8,
   "id": "8b71aa55",
   "metadata": {
    "ExecuteTime": {
     "end_time": "2022-10-31T13:53:17.158891Z",
     "start_time": "2022-10-31T13:53:17.149912Z"
    }
   },
   "outputs": [
    {
     "data": {
      "text/plain": [
       "(412, 4)"
      ]
     },
     "execution_count": 8,
     "metadata": {},
     "output_type": "execute_result"
    }
   ],
   "source": [
    "df.shape"
   ]
  },
  {
   "cell_type": "code",
   "execution_count": 9,
   "id": "17729b08",
   "metadata": {
    "ExecuteTime": {
     "end_time": "2022-10-31T13:53:13.703851Z",
     "start_time": "2022-10-31T13:53:13.655748Z"
    }
   },
   "outputs": [
    {
     "data": {
      "text/html": [
       "<div>\n",
       "<style scoped>\n",
       "    .dataframe tbody tr th:only-of-type {\n",
       "        vertical-align: middle;\n",
       "    }\n",
       "\n",
       "    .dataframe tbody tr th {\n",
       "        vertical-align: top;\n",
       "    }\n",
       "\n",
       "    .dataframe thead th {\n",
       "        text-align: right;\n",
       "    }\n",
       "</style>\n",
       "<table border=\"1\" class=\"dataframe\">\n",
       "  <thead>\n",
       "    <tr style=\"text-align: right;\">\n",
       "      <th></th>\n",
       "      <th>X2 house age</th>\n",
       "      <th>X3 distance to the nearest station</th>\n",
       "      <th>X4 number of convenience stores</th>\n",
       "      <th>Y house price of unit area</th>\n",
       "    </tr>\n",
       "  </thead>\n",
       "  <tbody>\n",
       "    <tr>\n",
       "      <th>count</th>\n",
       "      <td>412.000000</td>\n",
       "      <td>412.000000</td>\n",
       "      <td>412.000000</td>\n",
       "      <td>412.000000</td>\n",
       "    </tr>\n",
       "    <tr>\n",
       "      <th>mean</th>\n",
       "      <td>17.736408</td>\n",
       "      <td>1087.579690</td>\n",
       "      <td>4.097087</td>\n",
       "      <td>37.860922</td>\n",
       "    </tr>\n",
       "    <tr>\n",
       "      <th>std</th>\n",
       "      <td>11.414149</td>\n",
       "      <td>1264.047654</td>\n",
       "      <td>2.947272</td>\n",
       "      <td>12.976599</td>\n",
       "    </tr>\n",
       "    <tr>\n",
       "      <th>min</th>\n",
       "      <td>0.000000</td>\n",
       "      <td>23.382840</td>\n",
       "      <td>0.000000</td>\n",
       "      <td>11.200000</td>\n",
       "    </tr>\n",
       "    <tr>\n",
       "      <th>25%</th>\n",
       "      <td>8.975000</td>\n",
       "      <td>289.324800</td>\n",
       "      <td>1.000000</td>\n",
       "      <td>27.700000</td>\n",
       "    </tr>\n",
       "    <tr>\n",
       "      <th>50%</th>\n",
       "      <td>16.150000</td>\n",
       "      <td>492.231300</td>\n",
       "      <td>4.000000</td>\n",
       "      <td>38.450000</td>\n",
       "    </tr>\n",
       "    <tr>\n",
       "      <th>75%</th>\n",
       "      <td>28.250000</td>\n",
       "      <td>1455.798000</td>\n",
       "      <td>6.000000</td>\n",
       "      <td>46.600000</td>\n",
       "    </tr>\n",
       "    <tr>\n",
       "      <th>max</th>\n",
       "      <td>43.800000</td>\n",
       "      <td>6488.021000</td>\n",
       "      <td>10.000000</td>\n",
       "      <td>78.300000</td>\n",
       "    </tr>\n",
       "  </tbody>\n",
       "</table>\n",
       "</div>"
      ],
      "text/plain": [
       "       X2 house age  X3 distance to the nearest station  \\\n",
       "count    412.000000                          412.000000   \n",
       "mean      17.736408                         1087.579690   \n",
       "std       11.414149                         1264.047654   \n",
       "min        0.000000                           23.382840   \n",
       "25%        8.975000                          289.324800   \n",
       "50%       16.150000                          492.231300   \n",
       "75%       28.250000                         1455.798000   \n",
       "max       43.800000                         6488.021000   \n",
       "\n",
       "       X4 number of convenience stores  Y house price of unit area  \n",
       "count                       412.000000                  412.000000  \n",
       "mean                          4.097087                   37.860922  \n",
       "std                           2.947272                   12.976599  \n",
       "min                           0.000000                   11.200000  \n",
       "25%                           1.000000                   27.700000  \n",
       "50%                           4.000000                   38.450000  \n",
       "75%                           6.000000                   46.600000  \n",
       "max                          10.000000                   78.300000  "
      ]
     },
     "execution_count": 9,
     "metadata": {},
     "output_type": "execute_result"
    }
   ],
   "source": [
    "df.describe()"
   ]
  },
  {
   "cell_type": "code",
   "execution_count": 10,
   "id": "0809d797",
   "metadata": {
    "ExecuteTime": {
     "end_time": "2022-10-31T13:53:25.165245Z",
     "start_time": "2022-10-31T13:53:25.136292Z"
    }
   },
   "outputs": [
    {
     "data": {
      "text/html": [
       "<div>\n",
       "<style scoped>\n",
       "    .dataframe tbody tr th:only-of-type {\n",
       "        vertical-align: middle;\n",
       "    }\n",
       "\n",
       "    .dataframe tbody tr th {\n",
       "        vertical-align: top;\n",
       "    }\n",
       "\n",
       "    .dataframe thead th {\n",
       "        text-align: right;\n",
       "    }\n",
       "</style>\n",
       "<table border=\"1\" class=\"dataframe\">\n",
       "  <thead>\n",
       "    <tr style=\"text-align: right;\">\n",
       "      <th></th>\n",
       "      <th>X2 house age</th>\n",
       "      <th>X3 distance to the nearest station</th>\n",
       "      <th>X4 number of convenience stores</th>\n",
       "      <th>Y house price of unit area</th>\n",
       "    </tr>\n",
       "  </thead>\n",
       "  <tbody>\n",
       "    <tr>\n",
       "      <th>X2 house age</th>\n",
       "      <td>1.000000</td>\n",
       "      <td>0.024344</td>\n",
       "      <td>0.048563</td>\n",
       "      <td>-0.213846</td>\n",
       "    </tr>\n",
       "    <tr>\n",
       "      <th>X3 distance to the nearest station</th>\n",
       "      <td>0.024344</td>\n",
       "      <td>1.000000</td>\n",
       "      <td>-0.604995</td>\n",
       "      <td>-0.701939</td>\n",
       "    </tr>\n",
       "    <tr>\n",
       "      <th>X4 number of convenience stores</th>\n",
       "      <td>0.048563</td>\n",
       "      <td>-0.604995</td>\n",
       "      <td>1.000000</td>\n",
       "      <td>0.620631</td>\n",
       "    </tr>\n",
       "    <tr>\n",
       "      <th>Y house price of unit area</th>\n",
       "      <td>-0.213846</td>\n",
       "      <td>-0.701939</td>\n",
       "      <td>0.620631</td>\n",
       "      <td>1.000000</td>\n",
       "    </tr>\n",
       "  </tbody>\n",
       "</table>\n",
       "</div>"
      ],
      "text/plain": [
       "                                    X2 house age  \\\n",
       "X2 house age                            1.000000   \n",
       "X3 distance to the nearest station      0.024344   \n",
       "X4 number of convenience stores         0.048563   \n",
       "Y house price of unit area             -0.213846   \n",
       "\n",
       "                                    X3 distance to the nearest station  \\\n",
       "X2 house age                                                  0.024344   \n",
       "X3 distance to the nearest station                            1.000000   \n",
       "X4 number of convenience stores                              -0.604995   \n",
       "Y house price of unit area                                   -0.701939   \n",
       "\n",
       "                                    X4 number of convenience stores  \\\n",
       "X2 house age                                               0.048563   \n",
       "X3 distance to the nearest station                        -0.604995   \n",
       "X4 number of convenience stores                            1.000000   \n",
       "Y house price of unit area                                 0.620631   \n",
       "\n",
       "                                    Y house price of unit area  \n",
       "X2 house age                                         -0.213846  \n",
       "X3 distance to the nearest station                   -0.701939  \n",
       "X4 number of convenience stores                       0.620631  \n",
       "Y house price of unit area                            1.000000  "
      ]
     },
     "execution_count": 10,
     "metadata": {},
     "output_type": "execute_result"
    }
   ],
   "source": [
    "df.corr()"
   ]
  },
  {
   "cell_type": "code",
   "execution_count": 11,
   "id": "4a9504ca",
   "metadata": {
    "ExecuteTime": {
     "end_time": "2022-10-31T13:53:37.840252Z",
     "start_time": "2022-10-31T13:53:37.222300Z"
    }
   },
   "outputs": [
    {
     "data": {
      "text/plain": [
       "<AxesSubplot: >"
      ]
     },
     "execution_count": 11,
     "metadata": {},
     "output_type": "execute_result"
    },
    {
     "data": {
      "image/png": "[encoded data removed]",
      "text/plain": [
       "<Figure size 1200x1200 with 2 Axes>"
      ]
     },
     "metadata": {},
     "output_type": "display_data"
    }
   ],
   "source": [
    "#Get visualization of Correlation of each feature in the dataset\n",
    "corrmat= df.corr()\n",
    "corr_features= corrmat.index\n",
    "plt.figure(figsize=(12,12))\n",
    "sns.heatmap(corrmat, annot=True, cmap='RdYlGn')"
   ]
  },
  {
   "cell_type": "code",
   "execution_count": 12,
   "id": "1e667049",
   "metadata": {
    "ExecuteTime": {
     "end_time": "2022-10-31T13:53:47.548287Z",
     "start_time": "2022-10-31T13:53:47.528183Z"
    }
   },
   "outputs": [
    {
     "data": {
      "text/plain": [
       "Index(['X2 house age', 'X3 distance to the nearest station',\n",
       "       'X4 number of convenience stores', 'Y house price of unit area'],\n",
       "      dtype='object')"
      ]
     },
     "execution_count": 12,
     "metadata": {},
     "output_type": "execute_result"
    }
   ],
   "source": [
    "df.columns"
   ]
  },
  {
   "cell_type": "code",
   "execution_count": 13,
   "id": "07d57e2c",
   "metadata": {
    "ExecuteTime": {
     "end_time": "2022-10-31T13:53:57.700536Z",
     "start_time": "2022-10-31T13:53:57.687575Z"
    }
   },
   "outputs": [],
   "source": [
    "x= df[['X2 house age', 'X3 distance to the nearest station',\n",
    "       'X4 number of convenience stores']]\n",
    "y= df['Y house price of unit area']"
   ]
  },
  {
   "cell_type": "code",
   "execution_count": 14,
   "id": "a7422a43",
   "metadata": {
    "ExecuteTime": {
     "end_time": "2022-10-31T13:54:00.723453Z",
     "start_time": "2022-10-31T13:54:00.715831Z"
    }
   },
   "outputs": [],
   "source": [
    "from sklearn.model_selection import train_test_split\n",
    "from sklearn.linear_model import LinearRegression"
   ]
  },
  {
   "cell_type": "code",
   "execution_count": 15,
   "id": "fa320558",
   "metadata": {
    "ExecuteTime": {
     "end_time": "2022-10-31T13:54:03.005207Z",
     "start_time": "2022-10-31T13:54:02.991214Z"
    }
   },
   "outputs": [],
   "source": [
    "x_train, x_test, y_train, y_test= train_test_split(x,y, test_size= 20, random_state= 5)"
   ]
  },
  {
   "cell_type": "code",
   "execution_count": 16,
   "id": "7dd4a371",
   "metadata": {
    "ExecuteTime": {
     "end_time": "2022-10-31T13:54:06.107825Z",
     "start_time": "2022-10-31T13:54:06.095859Z"
    }
   },
   "outputs": [],
   "source": [
    "lm= LinearRegression()"
   ]
  },
  {
   "cell_type": "code",
   "execution_count": 17,
   "id": "6adb7fcf",
   "metadata": {
    "ExecuteTime": {
     "end_time": "2022-10-31T13:54:08.561167Z",
     "start_time": "2022-10-31T13:54:08.544075Z"
    }
   },
   "outputs": [
    {
     "data": {
      "text/html": [
       "<style>#sk-container-id-1 {color: black;background-color: white;}#sk-container-id-1 pre{padding: 0;}#sk-container-id-1 div.sk-toggleable {background-color: white;}#sk-container-id-1 label.sk-toggleable__label {cursor: pointer;display: block;width: 100%;margin-bottom: 0;padding: 0.3em;box-sizing: border-box;text-align: center;}#sk-container-id-1 label.sk-toggleable__label-arrow:before {content: \"▸\";float: left;margin-right: 0.25em;color: #696969;}#sk-container-id-1 label.sk-toggleable__label-arrow:hover:before {color: black;}#sk-container-id-1 div.sk-estimator:hover label.sk-toggleable__label-arrow:before {color: black;}#sk-container-id-1 div.sk-toggleable__content {max-height: 0;max-width: 0;overflow: hidden;text-align: left;background-color: #f0f8ff;}#sk-container-id-1 div.sk-toggleable__content pre {margin: 0.2em;color: black;border-radius: 0.25em;background-color: #f0f8ff;}#sk-container-id-1 input.sk-toggleable__control:checked~div.sk-toggleable__content {max-height: 200px;max-width: 100%;overflow: auto;}#sk-container-id-1 input.sk-toggleable__control:checked~label.sk-toggleable__label-arrow:before {content: \"▾\";}#sk-container-id-1 div.sk-estimator input.sk-toggleable__control:checked~label.sk-toggleable__label {background-color: #d4ebff;}#sk-container-id-1 div.sk-label input.sk-toggleable__control:checked~label.sk-toggleable__label {background-color: #d4ebff;}#sk-container-id-1 input.sk-hidden--visually {border: 0;clip: rect(1px 1px 1px 1px);clip: rect(1px, 1px, 1px, 1px);height: 1px;margin: -1px;overflow: hidden;padding: 0;position: absolute;width: 1px;}#sk-container-id-1 div.sk-estimator {font-family: monospace;background-color: #f0f8ff;border: 1px dotted black;border-radius: 0.25em;box-sizing: border-box;margin-bottom: 0.5em;}#sk-container-id-1 div.sk-estimator:hover {background-color: #d4ebff;}#sk-container-id-1 div.sk-parallel-item::after {content: \"\";width: 100%;border-bottom: 1px solid gray;flex-grow: 1;}#sk-container-id-1 div.sk-label:hover label.sk-toggleable__label {background-color: #d4ebff;}#sk-container-id-1 div.sk-serial::before {content: \"\";position: absolute;border-left: 1px solid gray;box-sizing: border-box;top: 0;bottom: 0;left: 50%;z-index: 0;}#sk-container-id-1 div.sk-serial {display: flex;flex-direction: column;align-items: center;background-color: white;padding-right: 0.2em;padding-left: 0.2em;position: relative;}#sk-container-id-1 div.sk-item {position: relative;z-index: 1;}#sk-container-id-1 div.sk-parallel {display: flex;align-items: stretch;justify-content: center;background-color: white;position: relative;}#sk-container-id-1 div.sk-item::before, #sk-container-id-1 div.sk-parallel-item::before {content: \"\";position: absolute;border-left: 1px solid gray;box-sizing: border-box;top: 0;bottom: 0;left: 50%;z-index: -1;}#sk-container-id-1 div.sk-parallel-item {display: flex;flex-direction: column;z-index: 1;position: relative;background-color: white;}#sk-container-id-1 div.sk-parallel-item:first-child::after {align-self: flex-end;width: 50%;}#sk-container-id-1 div.sk-parallel-item:last-child::after {align-self: flex-start;width: 50%;}#sk-container-id-1 div.sk-parallel-item:only-child::after {width: 0;}#sk-container-id-1 div.sk-dashed-wrapped {border: 1px dashed gray;margin: 0 0.4em 0.5em 0.4em;box-sizing: border-box;padding-bottom: 0.4em;background-color: white;}#sk-container-id-1 div.sk-label label {font-family: monospace;font-weight: bold;display: inline-block;line-height: 1.2em;}#sk-container-id-1 div.sk-label-container {text-align: center;}#sk-container-id-1 div.sk-container {/* jupyter's `normalize.less` sets `[hidden] { display: none; }` but bootstrap.min.css set `[hidden] { display: none !important; }` so we also need the `!important` here to be able to override the default hidden behavior on the sphinx rendered scikit-learn.org. See: https://github.com/scikit-learn/scikit-learn/issues/21755 */display: inline-block !important;position: relative;}#sk-container-id-1 div.sk-text-repr-fallback {display: none;}</style><div id=\"sk-container-id-1\" class=\"sk-top-container\"><div class=\"sk-text-repr-fallback\"><pre>LinearRegression()</pre><b>In a Jupyter environment, please rerun this cell to show the HTML representation or trust the notebook. <br />On GitHub, the HTML representation is unable to render, please try loading this page with nbviewer.org.</b></div><div class=\"sk-container\" hidden><div class=\"sk-item\"><div class=\"sk-estimator sk-toggleable\"><input class=\"sk-toggleable__control sk-hidden--visually\" id=\"sk-estimator-id-1\" type=\"checkbox\" checked><label for=\"sk-estimator-id-1\" class=\"sk-toggleable__label sk-toggleable__label-arrow\">LinearRegression</label><div class=\"sk-toggleable__content\"><pre>LinearRegression()</pre></div></div></div></div></div>"
      ],
      "text/plain": [
       "LinearRegression()"
      ]
     },
     "execution_count": 17,
     "metadata": {},
     "output_type": "execute_result"
    }
   ],
   "source": [
    "lm.fit(x_train, y_train)"
   ]
  },
  {
   "cell_type": "code",
   "execution_count": 18,
   "id": "1c1f0099",
   "metadata": {
    "ExecuteTime": {
     "end_time": "2022-10-31T13:54:12.079938Z",
     "start_time": "2022-10-31T13:54:12.071960Z"
    }
   },
   "outputs": [
    {
     "name": "stdout",
     "output_type": "stream",
     "text": [
      "[-0.25040972 -0.00514182  1.49019957]\n"
     ]
    }
   ],
   "source": [
    "print(lm.coef_)"
   ]
  },
  {
   "cell_type": "code",
   "execution_count": 19,
   "id": "4b6e68ae",
   "metadata": {
    "ExecuteTime": {
     "end_time": "2022-10-31T13:54:15.489786Z",
     "start_time": "2022-10-31T13:54:15.471863Z"
    }
   },
   "outputs": [
    {
     "name": "stdout",
     "output_type": "stream",
     "text": [
      "41.64648452245436\n"
     ]
    }
   ],
   "source": [
    "print(lm.intercept_)"
   ]
  },
  {
   "cell_type": "code",
   "execution_count": 20,
   "id": "652265f3",
   "metadata": {
    "ExecuteTime": {
     "end_time": "2022-10-31T13:54:20.559969Z",
     "start_time": "2022-10-31T13:54:20.550295Z"
    }
   },
   "outputs": [],
   "source": [
    "predicted= lm.predict(x_test)"
   ]
  },
  {
   "cell_type": "code",
   "execution_count": 21,
   "id": "57482ccf",
   "metadata": {
    "ExecuteTime": {
     "end_time": "2022-10-31T13:54:23.578536Z",
     "start_time": "2022-10-31T13:54:23.568502Z"
    }
   },
   "outputs": [
    {
     "data": {
      "text/plain": [
       "array([49.06394743, 16.70524239, 43.62831265, 34.09907117, 47.60898362,\n",
       "       16.65891244, 47.55889738, 34.67304521, 43.62831265, 41.72775222,\n",
       "        6.20422525, 33.93297502, 52.9905499 , 49.31685517, 46.22225719,\n",
       "       32.16936347, 30.62207496, 34.62296327, 17.11892904, 46.95196086])"
      ]
     },
     "execution_count": 21,
     "metadata": {},
     "output_type": "execute_result"
    }
   ],
   "source": [
    "predicted"
   ]
  },
  {
   "cell_type": "code",
   "execution_count": 22,
   "id": "bd0133e4",
   "metadata": {
    "ExecuteTime": {
     "end_time": "2022-10-31T13:54:30.887852Z",
     "start_time": "2022-10-31T13:54:30.863916Z"
    }
   },
   "outputs": [
    {
     "data": {
      "text/html": [
       "<div>\n",
       "<style scoped>\n",
       "    .dataframe tbody tr th:only-of-type {\n",
       "        vertical-align: middle;\n",
       "    }\n",
       "\n",
       "    .dataframe tbody tr th {\n",
       "        vertical-align: top;\n",
       "    }\n",
       "\n",
       "    .dataframe thead th {\n",
       "        text-align: right;\n",
       "    }\n",
       "</style>\n",
       "<table border=\"1\" class=\"dataframe\">\n",
       "  <thead>\n",
       "    <tr style=\"text-align: right;\">\n",
       "      <th></th>\n",
       "      <th>Actual</th>\n",
       "      <th>Predicted</th>\n",
       "    </tr>\n",
       "  </thead>\n",
       "  <tbody>\n",
       "    <tr>\n",
       "      <th>0</th>\n",
       "      <td>45.4</td>\n",
       "      <td>49.063947</td>\n",
       "    </tr>\n",
       "    <tr>\n",
       "      <th>1</th>\n",
       "      <td>12.9</td>\n",
       "      <td>16.705242</td>\n",
       "    </tr>\n",
       "    <tr>\n",
       "      <th>2</th>\n",
       "      <td>42.1</td>\n",
       "      <td>43.628313</td>\n",
       "    </tr>\n",
       "    <tr>\n",
       "      <th>3</th>\n",
       "      <td>31.7</td>\n",
       "      <td>34.099071</td>\n",
       "    </tr>\n",
       "    <tr>\n",
       "      <th>4</th>\n",
       "      <td>46.1</td>\n",
       "      <td>47.608984</td>\n",
       "    </tr>\n",
       "    <tr>\n",
       "      <th>5</th>\n",
       "      <td>19.2</td>\n",
       "      <td>16.658912</td>\n",
       "    </tr>\n",
       "    <tr>\n",
       "      <th>6</th>\n",
       "      <td>39.3</td>\n",
       "      <td>47.558897</td>\n",
       "    </tr>\n",
       "    <tr>\n",
       "      <th>7</th>\n",
       "      <td>40.6</td>\n",
       "      <td>34.673045</td>\n",
       "    </tr>\n",
       "    <tr>\n",
       "      <th>8</th>\n",
       "      <td>53.0</td>\n",
       "      <td>43.628313</td>\n",
       "    </tr>\n",
       "    <tr>\n",
       "      <th>9</th>\n",
       "      <td>52.2</td>\n",
       "      <td>41.727752</td>\n",
       "    </tr>\n",
       "    <tr>\n",
       "      <th>10</th>\n",
       "      <td>15.0</td>\n",
       "      <td>6.204225</td>\n",
       "    </tr>\n",
       "    <tr>\n",
       "      <th>11</th>\n",
       "      <td>40.8</td>\n",
       "      <td>33.932975</td>\n",
       "    </tr>\n",
       "    <tr>\n",
       "      <th>12</th>\n",
       "      <td>62.2</td>\n",
       "      <td>52.990550</td>\n",
       "    </tr>\n",
       "    <tr>\n",
       "      <th>13</th>\n",
       "      <td>49.0</td>\n",
       "      <td>49.316855</td>\n",
       "    </tr>\n",
       "    <tr>\n",
       "      <th>14</th>\n",
       "      <td>58.8</td>\n",
       "      <td>46.222257</td>\n",
       "    </tr>\n",
       "    <tr>\n",
       "      <th>15</th>\n",
       "      <td>25.5</td>\n",
       "      <td>32.169363</td>\n",
       "    </tr>\n",
       "    <tr>\n",
       "      <th>16</th>\n",
       "      <td>27.7</td>\n",
       "      <td>30.622075</td>\n",
       "    </tr>\n",
       "    <tr>\n",
       "      <th>17</th>\n",
       "      <td>39.0</td>\n",
       "      <td>34.622963</td>\n",
       "    </tr>\n",
       "    <tr>\n",
       "      <th>18</th>\n",
       "      <td>41.2</td>\n",
       "      <td>17.118929</td>\n",
       "    </tr>\n",
       "    <tr>\n",
       "      <th>19</th>\n",
       "      <td>42.5</td>\n",
       "      <td>46.951961</td>\n",
       "    </tr>\n",
       "  </tbody>\n",
       "</table>\n",
       "</div>"
      ],
      "text/plain": [
       "    Actual  Predicted\n",
       "0     45.4  49.063947\n",
       "1     12.9  16.705242\n",
       "2     42.1  43.628313\n",
       "3     31.7  34.099071\n",
       "4     46.1  47.608984\n",
       "5     19.2  16.658912\n",
       "6     39.3  47.558897\n",
       "7     40.6  34.673045\n",
       "8     53.0  43.628313\n",
       "9     52.2  41.727752\n",
       "10    15.0   6.204225\n",
       "11    40.8  33.932975\n",
       "12    62.2  52.990550\n",
       "13    49.0  49.316855\n",
       "14    58.8  46.222257\n",
       "15    25.5  32.169363\n",
       "16    27.7  30.622075\n",
       "17    39.0  34.622963\n",
       "18    41.2  17.118929\n",
       "19    42.5  46.951961"
      ]
     },
     "execution_count": 22,
     "metadata": {},
     "output_type": "execute_result"
    }
   ],
   "source": [
    "df2= pd.DataFrame({'Actual': y_test, 'Predicted': predicted})\n",
    "df2.reset_index(inplace=True)\n",
    "df2.drop(columns= 'index', axis=1, inplace= True)\n",
    "df2"
   ]
  },
  {
   "cell_type": "code",
   "execution_count": 23,
   "id": "4e29d02c",
   "metadata": {
    "ExecuteTime": {
     "end_time": "2022-10-31T13:54:50.348870Z",
     "start_time": "2022-10-31T13:54:50.320917Z"
    }
   },
   "outputs": [
    {
     "data": {
      "text/plain": [
       "0.6001668845439527"
      ]
     },
     "execution_count": 23,
     "metadata": {},
     "output_type": "execute_result"
    }
   ],
   "source": [
    "#Checking the accuracy of our model\n",
    "lm.score(x, y)"
   ]
  },
  {
   "cell_type": "code",
   "execution_count": 24,
   "id": "66e163ae",
   "metadata": {
    "ExecuteTime": {
     "end_time": "2022-10-31T13:55:01.938929Z",
     "start_time": "2022-10-31T13:55:01.369147Z"
    }
   },
   "outputs": [
    {
     "data": {
      "text/plain": [
       "<AxesSubplot: title={'center': 'Actual vs Predicted Price'}>"
      ]
     },
     "execution_count": 24,
     "metadata": {},
     "output_type": "execute_result"
    },
    {
     "data": {
      "image/png": "[encoded data removed]",
      "text/plain": [
       "<Figure size 1500x600 with 1 Axes>"
      ]
     },
     "metadata": {},
     "output_type": "display_data"
    }
   ],
   "source": [
    "df2.plot(kind= 'bar', figsize=(15,6), title= 'Actual vs Predicted Price')"
   ]
  },
  {
   "cell_type": "code",
   "execution_count": null,
   "id": "4d070493",
   "metadata": {},
   "outputs": [],
   "source": []
  }
 ],
 "metadata": {
  "kernelspec": {
   "display_name": "Python 3.10.7 64-bit",
   "language": "python",
   "name": "python3"
  },
  "language_info": {
   "codemirror_mode": {
    "name": "ipython",
    "version": 3
   },
   "file_extension": ".py",
   "mimetype": "text/x-python",
   "name": "python",
   "nbconvert_exporter": "python",
   "pygments_lexer": "ipython3",
   "version": "3.10.7"
  },
  "vscode": {
   "interpreter": {
    "hash": "aee8b7b246df8f9039afb4144a1f6fd8d2ca17a180786b69acc140d282b71a49"
   }
  }
 },
 "nbformat": 4,
 "nbformat_minor": 5
}
